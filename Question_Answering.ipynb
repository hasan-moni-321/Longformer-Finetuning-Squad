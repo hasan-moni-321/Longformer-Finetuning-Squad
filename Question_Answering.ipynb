{
  "nbformat": 4,
  "nbformat_minor": 0,
  "metadata": {
    "colab": {
      "name": "Question_Answering.ipynb",
      "provenance": [],
      "collapsed_sections": []
    },
    "kernelspec": {
      "name": "python3",
      "display_name": "Python 3"
    }
  },
  "cells": [
    {
      "cell_type": "code",
      "metadata": {
        "id": "6kxECT-x9G9i"
      },
      "source": [
        "!git clone https://github.com/huggingface/transformers.git\n",
        "!pip install -U ./transformers\n",
        "!pip install git+https://github.com/huggingface/nlp.git"
      ],
      "execution_count": null,
      "outputs": []
    },
    {
      "cell_type": "code",
      "metadata": {
        "id": "-rEl5QPaVjV9"
      },
      "source": [
        "import numpy as np \n",
        "\n",
        "import os, sys, json, re, argparse, string, logging\n",
        "#import dataclasses\n",
        "from dataclasses import dataclass, field\n",
        "from typing import Dict, List, Optional \n",
        "from collections import Counter \n",
        "from tqdm.auto import tqdm\n",
        "\n",
        "import nlp\n",
        "\n",
        "import torch\n",
        "from torch.utils.data import DataLoader\n",
        "import transformers\n",
        "\n",
        "from transformers import (LongformerTokenizerFast, \n",
        "                          LongformerForQuestionAnswering, \n",
        "                          EvalPrediction,\n",
        "                          HfArgumentParser,\n",
        "                          DataCollator,\n",
        "                          #MyDataCollator,\n",
        "                          Trainer,\n",
        "                          TrainingArguments,\n",
        "                          set_seed)\n"
      ],
      "execution_count": null,
      "outputs": []
    },
    {
      "cell_type": "code",
      "metadata": {
        "id": "EDZrOPwMVwwE"
      },
      "source": [
        ""
      ],
      "execution_count": null,
      "outputs": []
    },
    {
      "cell_type": "code",
      "metadata": {
        "id": "kEbnTGbweO8s"
      },
      "source": [
        "logger = logging.getLogger(__name__)"
      ],
      "execution_count": null,
      "outputs": []
    },
    {
      "cell_type": "markdown",
      "metadata": {
        "id": "aPUber5zVyod"
      },
      "source": [
        "# Loading and Processing Dataset"
      ]
    },
    {
      "cell_type": "code",
      "metadata": {
        "id": "QEUBDTXZVjYW"
      },
      "source": [
        "def get_correct_alignement(context, answer):\n",
        "    \"\"\" Some original examples in SQuAD have indices wrong by 1 or 2 character. We test and fix this here. \"\"\"\n",
        "    gold_text = answer['text'][0]\n",
        "    start_idx = answer['answer_start'][0]\n",
        "    end_idx = start_idx + len(gold_text)\n",
        "    if context[start_idx:end_idx] == gold_text:\n",
        "        return start_idx, end_idx       # When the gold label position is good\n",
        "    elif context[start_idx-1:end_idx-1] == gold_text:\n",
        "        return start_idx-1, end_idx-1   # When the gold label is off by one character\n",
        "    elif context[start_idx-2:end_idx-2] == gold_text:\n",
        "        return start_idx-2, end_idx-2   # When the gold label is off by two character\n",
        "    else:\n",
        "        raise ValueError()\n",
        "\n",
        "# Tokenize our training dataset\n",
        "def convert_to_features(example):\n",
        "    # Tokenize contexts and questions (as pairs of inputs)\n",
        "    input_pairs = [example['question'], example['context']]\n",
        "    encodings = tokenizer.encode_plus(input_pairs, pad_to_max_length=True, max_length=512)\n",
        "    context_encodings = tokenizer.encode_plus(example['context'])\n",
        "    \n",
        "\n",
        "    # Compute start and end tokens for labels using Transformers's fast tokenizers alignement methodes.\n",
        "    # this will give us the position of answer span in the context text\n",
        "    start_idx, end_idx = get_correct_alignement(example['context'], example['answers'])\n",
        "    start_positions_context = context_encodings.char_to_token(start_idx)\n",
        "    end_positions_context = context_encodings.char_to_token(end_idx-1)\n",
        "\n",
        "    # here we will compute the start and end position of the answer in the whole example\n",
        "    # as the example is encoded like this <s> question</s></s> context</s>\n",
        "    # and we know the postion of the answer in the context\n",
        "    # we can just find out the index of the sep token and then add that to position + 1 (+1 because there are two sep tokens)\n",
        "    # this will give us the position of the answer span in whole example \n",
        "    sep_idx = encodings['input_ids'].index(tokenizer.sep_token_id)\n",
        "    start_positions = start_positions_context + sep_idx + 1\n",
        "    end_positions = end_positions_context + sep_idx + 1\n",
        "\n",
        "    if end_positions > 512:\n",
        "      start_positions, end_positions = 0, 0\n",
        "\n",
        "    encodings.update({'start_positions': start_positions,\n",
        "                      'end_positions': end_positions,\n",
        "                      'attention_mask': encodings['attention_mask']})\n",
        "    return encodings\n",
        "    "
      ],
      "execution_count": null,
      "outputs": []
    },
    {
      "cell_type": "code",
      "metadata": {
        "id": "LfcEvutxVjbJ"
      },
      "source": [
        "# load train and validation split of squad\n",
        "train_dataset  = nlp.load_dataset('squad', split=nlp.Split.TRAIN)\n",
        "valid_dataset = nlp.load_dataset('squad', split=nlp.Split.VALIDATION)"
      ],
      "execution_count": null,
      "outputs": []
    },
    {
      "cell_type": "code",
      "metadata": {
        "id": "R8SwKNQddyCo"
      },
      "source": [
        "# Defining Tokenizer\n",
        "tokenizer = LongformerTokenizerFast.from_pretrained('allenai/longformer-base-4096')"
      ],
      "execution_count": null,
      "outputs": []
    },
    {
      "cell_type": "code",
      "metadata": {
        "id": "tYzxAzNAWCqO"
      },
      "source": [
        "# Feature Engineering\n",
        "train_dataset = train_dataset.map(convert_to_features)\n",
        "valid_dataset = valid_dataset.map(convert_to_features, load_from_cache_file=False)\n",
        "\n",
        "\n",
        "# set the tensor type and the columns which the dataset should return\n",
        "columns = ['input_ids', 'attention_mask', 'start_positions', 'end_positions']\n",
        "train_dataset.set_format(type='torch', columns=columns)\n",
        "valid_dataset.set_format(type='torch', columns=columns)\n"
      ],
      "execution_count": null,
      "outputs": []
    },
    {
      "cell_type": "code",
      "metadata": {
        "colab": {
          "base_uri": "https://localhost:8080/"
        },
        "id": "LPq2SjQZV7WL",
        "outputId": "9f218224-746d-4ccf-cc0d-45e83e49078e"
      },
      "source": [
        "len(train_dataset), len(valid_dataset)"
      ],
      "execution_count": null,
      "outputs": [
        {
          "output_type": "execute_result",
          "data": {
            "text/plain": [
              "(87599, 10570)"
            ]
          },
          "metadata": {
            "tags": []
          },
          "execution_count": 27
        }
      ]
    },
    {
      "cell_type": "code",
      "metadata": {
        "id": "HPrIbEcFV7ZE"
      },
      "source": [
        "# cach the dataset, so we can load it directly for training\n",
        "torch.save(train_dataset, 'train_data.pt')\n",
        "torch.save(valid_dataset, 'valid_data.pt')"
      ],
      "execution_count": null,
      "outputs": []
    },
    {
      "cell_type": "code",
      "metadata": {
        "id": "ZVqMSgoZV7bq"
      },
      "source": [
        ""
      ],
      "execution_count": null,
      "outputs": []
    },
    {
      "cell_type": "markdown",
      "metadata": {
        "id": "fP6Y-du3d7HC"
      },
      "source": [
        "# Training Script"
      ]
    },
    {
      "cell_type": "code",
      "metadata": {
        "id": "dhYfJp42d9dD"
      },
      "source": [
        "# @dataclass\n",
        "class DummyDataCollator(transformers.DataCollator): \n",
        "    def collate_batch(self, batch: List) -> Dict[str, torch.Tensor]:\n",
        "        \"\"\"\n",
        "        Take a list of samples from a Dataset and collate them into a batch.\n",
        "        Returns:\n",
        "            A dictionary of tensors\n",
        "        \"\"\"\n",
        "        input_ids = torch.stack([example['input_ids'] for example in batch])\n",
        "        attention_mask = torch.stack([example['attention_mask'] for example in batch])\n",
        "        start_positions = torch.stack([example['start_positions'] for example in batch])\n",
        "        end_positions = torch.stack([example['end_positions'] for example in batch])\n",
        "\n",
        "        return {\n",
        "            'input_ids': input_ids, \n",
        "            'start_positions': start_positions, \n",
        "            'end_positions': end_positions,\n",
        "            'attention_mask': attention_mask\n",
        "        }\n",
        "\n",
        "\n",
        "@dataclass\n",
        "class ModelArguments:\n",
        "    \"\"\"\n",
        "    Arguments pertaining to which model/config/tokenizer we are going to fine-tune from.\n",
        "    \"\"\"\n",
        "\n",
        "    model_name_or_path: str = field(\n",
        "        metadata={\"help\": \"Path to pretrained model or model identifier from huggingface.co/models\"}\n",
        "    )\n",
        "    tokenizer_name: Optional[str] = field(\n",
        "        default=None, metadata={\"help\": \"Pretrained tokenizer name or path if not the same as model_name\"}\n",
        "    )\n",
        "    cache_dir: Optional[str] = field(\n",
        "        default=None, metadata={\"help\": \"Where do you want to store the pretrained models downloaded from s3\"}\n",
        "    )\n",
        "\n",
        "\n",
        "@dataclass\n",
        "class DataTrainingArguments:\n",
        "    \"\"\"\n",
        "    Arguments pertaining to what data we are going to input our model for training and eval.\n",
        "    \"\"\"\n",
        "    train_file_path: Optional[str] = field(\n",
        "        default='train_data.pt',\n",
        "        metadata={\"help\": \"Path for cached train dataset\"},\n",
        "    )\n",
        "    valid_file_path: Optional[str] = field(\n",
        "        default='valid_data.pt',\n",
        "        metadata={\"help\": \"Path for cached valid dataset\"},\n",
        "    )\n",
        "    max_len: Optional[int] = field(\n",
        "        default=512,\n",
        "        metadata={\"help\": \"Max input length for the source text\"},\n",
        "    )"
      ],
      "execution_count": null,
      "outputs": []
    },
    {
      "cell_type": "code",
      "metadata": {
        "id": "aNn_yJNwd9fn"
      },
      "source": [
        "def main():\n",
        "    # See all possible arguments in src/transformers/training_args.py\n",
        "    # or by passing the --help flag to this script.\n",
        "    # We now keep distinct sets of args, for a cleaner separation of concerns.\n",
        "\n",
        "    parser = HfArgumentParser((ModelArguments, DataTrainingArguments, TrainingArguments))\n",
        "\n",
        "    # we will load the arguments from a json file, \n",
        "    # make sure you save the arguments in at ./args.json\n",
        "    model_args, data_args, training_args = parser.parse_json_file(json_file=os.path.abspath('args.json'))\n",
        "\n",
        "    if (\n",
        "        os.path.exists(training_args.output_dir)\n",
        "        and os.listdir(training_args.output_dir)\n",
        "        and training_args.do_train\n",
        "        and not training_args.overwrite_output_dir\n",
        "    ):\n",
        "        raise ValueError(\n",
        "            f\"Output directory ({training_args.output_dir}) already exists and is not empty. Use --overwrite_output_dir to overcome.\"\n",
        "        )\n",
        "\n",
        "    # Setup logging\n",
        "    logging.basicConfig(\n",
        "        format=\"%(asctime)s - %(levelname)s - %(name)s -   %(message)s\",\n",
        "        datefmt=\"%m/%d/%Y %H:%M:%S\",\n",
        "        level=logging.INFO if training_args.local_rank in [-1, 0] else logging.WARN,\n",
        "    )\n",
        "    logger.warning(\n",
        "        \"Process rank: %s, device: %s, n_gpu: %s, distributed training: %s, 16-bits training: %s\",\n",
        "        training_args.local_rank,\n",
        "        training_args.device,\n",
        "        training_args.n_gpu,\n",
        "        bool(training_args.local_rank != -1),\n",
        "        training_args.fp16,\n",
        "    )\n",
        "    logger.info(\"Training/evaluation parameters %s\", training_args)\n",
        "\n",
        "    # Set seed\n",
        "    set_seed(training_args.seed)\n",
        "\n",
        "    # Load pretrained model and tokenizer\n",
        "    #\n",
        "    # Distributed training:\n",
        "    # The .from_pretrained methods guarantee that only one local process can concurrently\n",
        "    # download model & vocab.\n",
        "\n",
        "    tokenizer = LongformerTokenizerFast.from_pretrained(\n",
        "        model_args.tokenizer_name if model_args.tokenizer_name else model_args.model_name_or_path,\n",
        "        cache_dir=model_args.cache_dir,\n",
        "    )\n",
        "    model = LongformerForQuestionAnswering.from_pretrained(\n",
        "        model_args.model_name_or_path,\n",
        "        cache_dir=model_args.cache_dir,\n",
        "    )\n",
        "\n",
        "    # Get datasets\n",
        "    print('loading data')\n",
        "    train_dataset  = torch.load(data_args.train_file_path)\n",
        "    valid_dataset = torch.load(data_args.valid_file_path)\n",
        "    print('loading done')\n",
        "\n",
        "    # Initialize our Trainer\n",
        "    trainer = Trainer(\n",
        "        model=model,\n",
        "        args=training_args,\n",
        "        train_dataset=train_dataset,\n",
        "        eval_dataset=valid_dataset,\n",
        "        data_collator=DummyDataCollator(),\n",
        "        #prediction_loss_only=True,\n",
        "    )\n",
        "\n",
        "    # Training\n",
        "    if training_args.do_train:\n",
        "        trainer.train(\n",
        "            model_path=model_args.model_name_or_path if os.path.isdir(model_args.model_name_or_path) else None\n",
        "        )\n",
        "        trainer.save_model()\n",
        "        # For convenience, we also re-save the tokenizer to the same directory,\n",
        "        # so that you can share your model easily on huggingface.co/models =)\n",
        "        if trainer.is_world_master():\n",
        "            tokenizer.save_pretrained(training_args.output_dir)\n",
        "\n",
        "    # Evaluation\n",
        "    results = {}\n",
        "    if training_args.do_eval and training_args.local_rank in [-1, 0]:\n",
        "        logger.info(\"*** Evaluate ***\")\n",
        "\n",
        "        eval_output = trainer.evaluate()\n",
        "\n",
        "        output_eval_file = os.path.join(training_args.output_dir, \"eval_results.txt\")\n",
        "        with open(output_eval_file, \"w\") as writer:\n",
        "            logger.info(\"***** Eval results *****\")\n",
        "            for key in sorted(eval_output.keys()):\n",
        "                logger.info(\"  %s = %s\", key, str(eval_output[key]))\n",
        "                writer.write(\"%s = %s\\n\" % (key, str(eval_output[key])))\n",
        "    \n",
        "        results.update(eval_output)\n",
        "    \n",
        "    return results\n"
      ],
      "execution_count": null,
      "outputs": []
    },
    {
      "cell_type": "code",
      "metadata": {
        "id": "6La2swrvd9iH"
      },
      "source": [
        "# For TPU\n",
        "def _mp_fn(index):\n",
        "    # For xla_spawn (TPUs)\n",
        "    main()\n"
      ],
      "execution_count": null,
      "outputs": []
    },
    {
      "cell_type": "code",
      "metadata": {
        "id": "8YvyzZxGd9j_"
      },
      "source": [
        ""
      ],
      "execution_count": null,
      "outputs": []
    },
    {
      "cell_type": "markdown",
      "metadata": {
        "id": "WvpSwO2Lei-L"
      },
      "source": [
        "# Training"
      ]
    },
    {
      "cell_type": "code",
      "metadata": {
        "id": "-oppSk35eko9"
      },
      "source": [
        "args_dict = {\n",
        "  \"n_gpu\": 1,\n",
        "  \"model_name_or_path\": 'allenai/longformer-base-4096',\n",
        "  \"max_len\": 512 ,\n",
        "  \"output_dir\": './models',\n",
        "  \"overwrite_output_dir\": True,\n",
        "  \"per_gpu_train_batch_size\": 8,\n",
        "  \"per_gpu_eval_batch_size\": 8,\n",
        "  \"gradient_accumulation_steps\": 16,\n",
        "  \"learning_rate\": 1e-4,\n",
        "  \"num_train_epochs\": 3,\n",
        "  \"do_train\": True\n",
        "}"
      ],
      "execution_count": null,
      "outputs": []
    },
    {
      "cell_type": "code",
      "metadata": {
        "id": "5oHU4fOEekro"
      },
      "source": [
        "with open('args.json', 'w') as f:\n",
        "  json.dump(args_dict, f)"
      ],
      "execution_count": null,
      "outputs": []
    },
    {
      "cell_type": "code",
      "metadata": {
        "id": "XOcKP81oekuF"
      },
      "source": [
        "# Start Training \n",
        "main()"
      ],
      "execution_count": null,
      "outputs": []
    },
    {
      "cell_type": "code",
      "metadata": {
        "id": "ADWps7pwekws"
      },
      "source": [
        ""
      ],
      "execution_count": null,
      "outputs": []
    },
    {
      "cell_type": "markdown",
      "metadata": {
        "id": "LJkjqHZge_zh"
      },
      "source": [
        "# Evaluation"
      ]
    },
    {
      "cell_type": "code",
      "metadata": {
        "id": "JceYrXHue4a5"
      },
      "source": [
        "def normalize_answer(s):\n",
        "    \"\"\"Lower text and remove punctuation, articles and extra whitespace.\"\"\"\n",
        "    def remove_articles(text):\n",
        "        return re.sub(r'\\b(a|an|the)\\b', ' ', text)\n",
        "\n",
        "    def white_space_fix(text):\n",
        "        return ' '.join(text.split())\n",
        "\n",
        "    def remove_punc(text):\n",
        "        exclude = set(string.punctuation)\n",
        "        return ''.join(ch for ch in text if ch not in exclude)\n",
        "\n",
        "    def lower(text):\n",
        "        return text.lower()\n",
        "\n",
        "    return white_space_fix(remove_articles(remove_punc(lower(s))))\n",
        "\n",
        "def f1_score(prediction, ground_truth):\n",
        "    prediction_tokens = normalize_answer(prediction).split()\n",
        "    ground_truth_tokens = normalize_answer(ground_truth).split()\n",
        "    common = Counter(prediction_tokens) & Counter(ground_truth_tokens)\n",
        "    num_same = sum(common.values())\n",
        "    if num_same == 0:\n",
        "        return 0\n",
        "    precision = 1.0 * num_same / len(prediction_tokens)\n",
        "    recall = 1.0 * num_same / len(ground_truth_tokens)\n",
        "    f1 = (2 * precision * recall) / (precision + recall)\n",
        "    return f1\n",
        "\n",
        "\n",
        "def exact_match_score(prediction, ground_truth):\n",
        "    return (normalize_answer(prediction) == normalize_answer(ground_truth))\n",
        "\n",
        "\n",
        "def metric_max_over_ground_truths(metric_fn, prediction, ground_truths):\n",
        "    scores_for_ground_truths = []\n",
        "    for ground_truth in ground_truths:\n",
        "        score = metric_fn(prediction, ground_truth)\n",
        "        scores_for_ground_truths.append(score)\n",
        "    return max(scores_for_ground_truths)\n",
        "\n",
        "\n",
        "def evaluate(gold_answers, predictions):\n",
        "    f1 = exact_match = total = 0\n",
        "\n",
        "    for ground_truths, prediction in zip(gold_answers, predictions):\n",
        "      total += 1\n",
        "      exact_match += metric_max_over_ground_truths(\n",
        "                    exact_match_score, prediction, ground_truths)\n",
        "      f1 += metric_max_over_ground_truths(\n",
        "          f1_score, prediction, ground_truths)\n",
        "    \n",
        "    exact_match = 100.0 * exact_match / total\n",
        "    f1 = 100.0 * f1 / total\n",
        "\n",
        "    return {'exact_match': exact_match, 'f1': f1}\n",
        "    \n"
      ],
      "execution_count": null,
      "outputs": []
    },
    {
      "cell_type": "code",
      "metadata": {
        "id": "Vyg5xz1cfCR3"
      },
      "source": [
        "tokenizer = LongformerTokenizerFast.from_pretrained('models')\n",
        "model = LongformerForQuestionAnswering.from_pretrained('models')\n",
        "model = model.cuda()\n",
        "model.eval()"
      ],
      "execution_count": null,
      "outputs": []
    },
    {
      "cell_type": "code",
      "metadata": {
        "id": "Y71Qjo2BfCUk"
      },
      "source": [
        "valid_dataset = torch.load('valid_data.pt')\n",
        "dataloader = DataLoader(valid_dataset, batch_size=16)"
      ],
      "execution_count": null,
      "outputs": []
    },
    {
      "cell_type": "code",
      "metadata": {
        "id": "vMLMzUY1fCWl"
      },
      "source": [
        "answers = []\n",
        "with torch.no_grad():\n",
        "  for batch in tqdm(dataloader):\n",
        "    start_scores, end_scores = model(input_ids=batch['input_ids'].cuda(),\n",
        "                                  attention_mask=batch['attention_mask'].cuda())\n",
        "    for i in range(start_scores.shape[0]):\n",
        "      all_tokens = tokenizer.convert_ids_to_tokens(batch['input_ids'][i])\n",
        "      answer = ' '.join(all_tokens[torch.argmax(start_scores[i]) : torch.argmax(end_scores[i])+1])\n",
        "      ans_ids = tokenizer.convert_tokens_to_ids(answer.split())\n",
        "      answer = tokenizer.decode(ans_ids)\n",
        "      answers.append(answer)\n",
        "      "
      ],
      "execution_count": null,
      "outputs": []
    },
    {
      "cell_type": "code",
      "metadata": {
        "id": "mQwZ43NcfCZK"
      },
      "source": [
        "predictions = []\n",
        "references = []\n",
        "for ref, pred in zip(valid_dataset, answers):\n",
        "  predictions.append(pred)\n",
        "  references.append(ref['answers']['text'])"
      ],
      "execution_count": null,
      "outputs": []
    },
    {
      "cell_type": "code",
      "metadata": {
        "id": "gBqnTqZQe4eH"
      },
      "source": [
        "evaluate(references, predictions)"
      ],
      "execution_count": null,
      "outputs": []
    },
    {
      "cell_type": "code",
      "metadata": {
        "id": "FihusCXbmc_p"
      },
      "source": [
        ""
      ],
      "execution_count": null,
      "outputs": []
    }
  ]
}